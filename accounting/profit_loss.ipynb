{
 "cells": [
  {
   "cell_type": "code",
   "execution_count": 1,
   "metadata": {},
   "outputs": [
    {
     "name": "stdout",
     "output_type": "stream",
     "text": [
      "売上高 4,672,626 0\n",
      "雑所得 2,866 0\n",
      "=== 収益 4,675,492 ===\n",
      "支払手数料 0 15,222\n",
      "消耗品 0 52,936\n",
      "会議費 0 11,700\n",
      "雑損失 0 28,650\n",
      "通信費 0 44,838\n",
      "諸会費 0 3,150\n",
      "支払報酬 0 33,000\n",
      "交通費 0 4,000\n",
      "=== 費用 193,496 ===\n",
      "=== 利益 4,481,996 ===\n"
     ]
    }
   ],
   "source": [
    "from profit_loss import main\n",
    "\n",
    "main(t_accounts_csv=\"t-accounts.csv\")"
   ]
  },
  {
   "cell_type": "code",
   "execution_count": null,
   "metadata": {},
   "outputs": [],
   "source": []
  }
 ],
 "metadata": {
  "kernelspec": {
   "display_name": "Python 3",
   "language": "python",
   "name": "python3"
  },
  "language_info": {
   "codemirror_mode": {
    "name": "ipython",
    "version": 3
   },
   "file_extension": ".py",
   "mimetype": "text/x-python",
   "name": "python",
   "nbconvert_exporter": "python",
   "pygments_lexer": "ipython3",
   "version": "3.7.7"
  }
 },
 "nbformat": 4,
 "nbformat_minor": 4
}
