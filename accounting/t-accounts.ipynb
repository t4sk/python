{
 "cells": [
  {
   "cell_type": "code",
   "execution_count": 1,
   "metadata": {},
   "outputs": [],
   "source": [
    "from lib import csv_to_journal_entries, check_balance, group_by_account, t_accounts_to_csv"
   ]
  },
  {
   "cell_type": "code",
   "execution_count": 2,
   "metadata": {},
   "outputs": [
    {
     "name": "stdout",
     "output_type": "stream",
     "text": [
      "credit 11,373,408 debit 11,373,408\n",
      "saved t-accounts.csv\n"
     ]
    }
   ],
   "source": [
    "journal_entries = csv_to_journal_entries(\"/home/t4sk/Downloads/accounting-2020.csv\")\n",
    "check_balance(journal_entries)\n",
    "\n",
    "t_accounts = group_by_account(journal_entries)\n",
    "\n",
    "t_accounts_to_csv(t_accounts)"
   ]
  },
  {
   "cell_type": "code",
   "execution_count": null,
   "metadata": {},
   "outputs": [],
   "source": []
  }
 ],
 "metadata": {
  "kernelspec": {
   "display_name": "Python 3",
   "language": "python",
   "name": "python3"
  },
  "language_info": {
   "codemirror_mode": {
    "name": "ipython",
    "version": 3
   },
   "file_extension": ".py",
   "mimetype": "text/x-python",
   "name": "python",
   "nbconvert_exporter": "python",
   "pygments_lexer": "ipython3",
   "version": "3.7.7"
  }
 },
 "nbformat": 4,
 "nbformat_minor": 4
}
