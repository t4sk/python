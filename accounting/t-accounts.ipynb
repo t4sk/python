{
 "cells": [
  {
   "cell_type": "code",
   "execution_count": 4,
   "metadata": {},
   "outputs": [
    {
     "name": "stdout",
     "output_type": "stream",
     "text": [
      "saved t-accounts.csv\n"
     ]
    }
   ],
   "source": [
    "from lib import csv_to_journal_entries, check_balance, group_by_account, t_accounts_to_csv\n",
    "\n",
    "journal_entries = csv_to_journal_entries(\"/home/t4sk/Downloads/accounting-2020.csv\")\n",
    "\n",
    "t_accounts = t_account_entries_by_account(journal_entries)\n",
    "t_accounts_to_csv(t_accounts)"
   ]
  },
  {
   "cell_type": "code",
   "execution_count": null,
   "metadata": {},
   "outputs": [],
   "source": []
  }
 ],
 "metadata": {
  "kernelspec": {
   "display_name": "Python 3",
   "language": "python",
   "name": "python3"
  },
  "language_info": {
   "codemirror_mode": {
    "name": "ipython",
    "version": 3
   },
   "file_extension": ".py",
   "mimetype": "text/x-python",
   "name": "python",
   "nbconvert_exporter": "python",
   "pygments_lexer": "ipython3",
   "version": "3.7.7"
  }
 },
 "nbformat": 4,
 "nbformat_minor": 4
}
