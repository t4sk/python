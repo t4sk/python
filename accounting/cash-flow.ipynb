{
 "cells": [
  {
   "cell_type": "code",
   "execution_count": 4,
   "metadata": {},
   "outputs": [
    {
     "name": "stdout",
     "output_type": "stream",
     "text": [
      "=== 資産 ===\n",
      "普通預金 837,727\n",
      "売掛金 -485,646\n",
      "=== 負債 ===\n",
      "仮受金 200\n",
      "=== 資本 ===\n",
      "事業主借 3,287\n",
      "=== 収益 ===\n",
      "売上高 424,491\n",
      "=== 費用 ===\n",
      "会議費 1,287\n",
      "消耗品 37,967\n",
      "支払報酬 33,000\n",
      "支払手数料 262\n",
      "雑損失 91\n",
      "交通費 2,000\n",
      "諸会費 1,290\n",
      "============\n",
      "資産 352,081\n",
      "負債 200\n",
      "資本 3,287\n",
      "収益 424,491\n",
      "費用 75,897\n",
      "負債 + 資本 + (収益 - 費用) 352,081\n",
      "=== 資産 ===\n",
      "普通預金 859,395\n",
      "売掛金 -382,348\n",
      "=== 負債 ===\n",
      "=== 資本 ===\n",
      "事業主借 2,971\n",
      "=== 収益 ===\n",
      "売上高 480,597\n",
      "=== 費用 ===\n",
      "諸会費 1,100\n",
      "支払手数料 2,450\n",
      "通信費 370\n",
      "消耗品 601\n",
      "交通費 2,000\n",
      "============\n",
      "資産 477,047\n",
      "負債 0\n",
      "資本 2,971\n",
      "収益 480,597\n",
      "費用 6,521\n",
      "負債 + 資本 + (収益 - 費用) 477,047\n"
     ]
    }
   ],
   "source": [
    "# cash flow\n",
    "from datetime import datetime\n",
    "from lib import csv_to_journal_entries, str_to_date, create_balance_sheet, print_balance_sheet\n",
    "from account_types import ASSET_TYPES, LIABILITY_TYPES, EQUITY_TYPES, REVENUE_TYPES, EXPENSE_TYPES\n",
    "\n",
    "journal_entries = csv_to_journal_entries(\"/home/t4sk/Downloads/accounting-2020.csv\")\n",
    "\n",
    "\n",
    "\n",
    "start_at = str_to_date(\"2020/08/01\")\n",
    "end_at = str_to_date(\"2020/09/01\")\n",
    "filtered = filter_journal_entries_by_date_range(journal_entries, start_at, end_at)\n",
    "\n",
    "t_accounts = journal_entries_to_t_accounts(filtered)\n",
    "\n",
    "bs = create_balance_sheet(\n",
    "    t_accounts,\n",
    "    ASSET_TYPES,\n",
    "    LIABILITY_TYPES,\n",
    "    EQUITY_TYPES,\n",
    "    REVENUE_TYPES,\n",
    "    EXPENSE_TYPES\n",
    ")\n",
    "\n",
    "print_balance_sheet(bs)\n",
    "\n",
    "\n",
    "\n",
    "start_at = str_to_date(\"2020/09/01\")\n",
    "end_at = str_to_date(\"2020/10/01\")\n",
    "filtered = filter_journal_entries_by_date_range(journal_entries, start_at, end_at)\n",
    "\n",
    "t_accounts = journal_entries_to_t_accounts(filtered)\n",
    "\n",
    "bs = create_balance_sheet(\n",
    "    t_accounts,\n",
    "    ASSET_TYPES,\n",
    "    LIABILITY_TYPES,\n",
    "    EQUITY_TYPES,\n",
    "    REVENUE_TYPES,\n",
    "    EXPENSE_TYPES\n",
    ")\n",
    "\n",
    "print_balance_sheet(bs)\n",
    "\n"
   ]
  },
  {
   "cell_type": "code",
   "execution_count": 4,
   "metadata": {},
   "outputs": [
    {
     "data": {
      "text/plain": [
       "datetime.datetime(2020, 9, 21, 20, 57, 24, 502229)"
      ]
     },
     "execution_count": 4,
     "metadata": {},
     "output_type": "execute_result"
    }
   ],
   "source": [
    "datetime.now()"
   ]
  },
  {
   "cell_type": "code",
   "execution_count": 32,
   "metadata": {},
   "outputs": [
    {
     "data": {
      "text/plain": [
       "0"
      ]
     },
     "execution_count": 32,
     "metadata": {},
     "output_type": "execute_result"
    }
   ],
   "source": [
    "int(0)"
   ]
  },
  {
   "cell_type": "code",
   "execution_count": 29,
   "metadata": {},
   "outputs": [
    {
     "data": {
      "text/plain": [
       "False"
      ]
     },
     "execution_count": 29,
     "metadata": {},
     "output_type": "execute_result"
    }
   ],
   "source": [
    "t = \"creddit\"\n",
    "t is \"debit\" or t is \"credit\""
   ]
  },
  {
   "cell_type": "code",
   "execution_count": 30,
   "metadata": {},
   "outputs": [
    {
     "ename": "AssertionError",
     "evalue": "",
     "output_type": "error",
     "traceback": [
      "\u001b[0;31m---------------------------------------------------------------------------\u001b[0m",
      "\u001b[0;31mAssertionError\u001b[0m                            Traceback (most recent call last)",
      "\u001b[0;32m<ipython-input-30-ae5158e343a7>\u001b[0m in \u001b[0;36m<module>\u001b[0;34m\u001b[0m\n\u001b[0;32m----> 1\u001b[0;31m \u001b[0;32massert\u001b[0m\u001b[0;34m(\u001b[0m\u001b[0;36m1\u001b[0m \u001b[0;34m==\u001b[0m \u001b[0;36m2\u001b[0m\u001b[0;34m)\u001b[0m\u001b[0;34m\u001b[0m\u001b[0;34m\u001b[0m\u001b[0m\n\u001b[0m",
      "\u001b[0;31mAssertionError\u001b[0m: "
     ]
    }
   ],
   "source": [
    "assert(1 == 2)"
   ]
  },
  {
   "cell_type": "code",
   "execution_count": null,
   "metadata": {},
   "outputs": [],
   "source": []
  }
 ],
 "metadata": {
  "kernelspec": {
   "display_name": "Python 3",
   "language": "python",
   "name": "python3"
  },
  "language_info": {
   "codemirror_mode": {
    "name": "ipython",
    "version": 3
   },
   "file_extension": ".py",
   "mimetype": "text/x-python",
   "name": "python",
   "nbconvert_exporter": "python",
   "pygments_lexer": "ipython3",
   "version": "3.7.7"
  }
 },
 "nbformat": 4,
 "nbformat_minor": 4
}
