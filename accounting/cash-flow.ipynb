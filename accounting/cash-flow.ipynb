{
 "cells": [
  {
   "cell_type": "code",
   "execution_count": 8,
   "metadata": {},
   "outputs": [
    {
     "name": "stdout",
     "output_type": "stream",
     "text": [
      "2020/09/01\n",
      "['debit 普通預金 115,863', 'credit 売掛金 115,863']\n",
      "振込 Sunpulse （8月分）\n",
      "2020/09/01\n",
      "['debit 普通預金 266,485', 'credit 売掛金 266,485']\n",
      "振込 Liquidstar （8月分）\n",
      "2020/09/01\n",
      "['debit 諸会費 1,100', 'credit 普通預金 1,100']\n",
      "デビットカード年会費\n",
      "2020/09/03\n",
      "['debit 普通預金 480,597', 'credit 売上高 480,597', 'debit 支払手数料 2,450', 'credit 普通預金 2,450']\n",
      "Stake With Us （8月給与） 4557.15 USD ＊ 105.46 JPY / USD\n",
      "2020/09/03\n",
      "['debit 通信費 370', 'credit 事業主借 370']\n",
      "郵便代 （さくら総合会計）\n",
      "2020/09/07\n",
      "['debit 消耗品 180', 'credit 事業主借 180']\n",
      "事務用品\n",
      "2020/09/09\n",
      "['debit 消耗品 421', 'credit 事業主借 421']\n",
      "事務用品\n",
      "2020/09/16\n",
      "['debit 交通費 2,000', 'credit 事業主借 2,000']\n",
      "\n"
     ]
    }
   ],
   "source": [
    "# cash flow\n",
    "from lib import csv_to_journal_entries, str_to_date\n",
    "from datetime import datetime\n",
    "\n",
    "journal_entries = csv_to_journal_entries(\"/home/t4sk/Downloads/accounting-2020.csv\")\n",
    "\n",
    "def filter_journal_entries_by_date_range(journal_entries, start_at, end_at):\n",
    "    filtered = []\n",
    "    \n",
    "    for journal_entry in journal_entries:\n",
    "        if start_at <= journal_entry.date <= end_at:\n",
    "            filtered.append(journal_entry)\n",
    "    \n",
    "    return filtered\n",
    "\n",
    "start_at = str_to_date(\"2020/09/01\")\n",
    "end_at = str_to_date(\"2020/10/01\")\n",
    "filtered = filter_journal_entries_by_date_range(journal_entries, start_at, end_at)\n",
    "\n",
    "for j in filtered:\n",
    "    print(j)"
   ]
  },
  {
   "cell_type": "code",
   "execution_count": 4,
   "metadata": {},
   "outputs": [
    {
     "data": {
      "text/plain": [
       "datetime.datetime(2020, 9, 21, 20, 57, 24, 502229)"
      ]
     },
     "execution_count": 4,
     "metadata": {},
     "output_type": "execute_result"
    }
   ],
   "source": [
    "datetime.now()"
   ]
  },
  {
   "cell_type": "code",
   "execution_count": 32,
   "metadata": {},
   "outputs": [
    {
     "data": {
      "text/plain": [
       "0"
      ]
     },
     "execution_count": 32,
     "metadata": {},
     "output_type": "execute_result"
    }
   ],
   "source": [
    "int(0)"
   ]
  },
  {
   "cell_type": "code",
   "execution_count": 29,
   "metadata": {},
   "outputs": [
    {
     "data": {
      "text/plain": [
       "False"
      ]
     },
     "execution_count": 29,
     "metadata": {},
     "output_type": "execute_result"
    }
   ],
   "source": [
    "t = \"creddit\"\n",
    "t is \"debit\" or t is \"credit\""
   ]
  },
  {
   "cell_type": "code",
   "execution_count": 30,
   "metadata": {},
   "outputs": [
    {
     "ename": "AssertionError",
     "evalue": "",
     "output_type": "error",
     "traceback": [
      "\u001b[0;31m---------------------------------------------------------------------------\u001b[0m",
      "\u001b[0;31mAssertionError\u001b[0m                            Traceback (most recent call last)",
      "\u001b[0;32m<ipython-input-30-ae5158e343a7>\u001b[0m in \u001b[0;36m<module>\u001b[0;34m\u001b[0m\n\u001b[0;32m----> 1\u001b[0;31m \u001b[0;32massert\u001b[0m\u001b[0;34m(\u001b[0m\u001b[0;36m1\u001b[0m \u001b[0;34m==\u001b[0m \u001b[0;36m2\u001b[0m\u001b[0;34m)\u001b[0m\u001b[0;34m\u001b[0m\u001b[0;34m\u001b[0m\u001b[0m\n\u001b[0m",
      "\u001b[0;31mAssertionError\u001b[0m: "
     ]
    }
   ],
   "source": [
    "assert(1 == 2)"
   ]
  },
  {
   "cell_type": "code",
   "execution_count": null,
   "metadata": {},
   "outputs": [],
   "source": []
  }
 ],
 "metadata": {
  "kernelspec": {
   "display_name": "Python 3",
   "language": "python",
   "name": "python3"
  },
  "language_info": {
   "codemirror_mode": {
    "name": "ipython",
    "version": 3
   },
   "file_extension": ".py",
   "mimetype": "text/x-python",
   "name": "python",
   "nbconvert_exporter": "python",
   "pygments_lexer": "ipython3",
   "version": "3.7.7"
  }
 },
 "nbformat": 4,
 "nbformat_minor": 4
}
