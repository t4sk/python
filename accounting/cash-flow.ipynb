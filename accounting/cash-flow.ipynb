{
 "cells": [
  {
   "cell_type": "code",
   "execution_count": 30,
   "metadata": {},
   "outputs": [
    {
     "name": "stdout",
     "output_type": "stream",
     "text": [
      "[(datetime.datetime(2020, 1, 1, 0, 0), datetime.datetime(2020, 1, 31, 0, 0)), (datetime.datetime(2020, 2, 1, 0, 0), datetime.datetime(2020, 2, 29, 0, 0)), (datetime.datetime(2020, 3, 1, 0, 0), datetime.datetime(2020, 3, 31, 0, 0)), (datetime.datetime(2020, 4, 1, 0, 0), datetime.datetime(2020, 4, 30, 0, 0)), (datetime.datetime(2020, 5, 1, 0, 0), datetime.datetime(2020, 5, 31, 0, 0)), (datetime.datetime(2020, 6, 1, 0, 0), datetime.datetime(2020, 6, 30, 0, 0)), (datetime.datetime(2020, 7, 1, 0, 0), datetime.datetime(2020, 7, 31, 0, 0)), (datetime.datetime(2020, 8, 1, 0, 0), datetime.datetime(2020, 8, 31, 0, 0)), (datetime.datetime(2020, 9, 1, 0, 0), datetime.datetime(2020, 9, 30, 0, 0)), (datetime.datetime(2020, 10, 1, 0, 0), datetime.datetime(2020, 10, 31, 0, 0)), (datetime.datetime(2020, 11, 1, 0, 0), datetime.datetime(2020, 11, 30, 0, 0)), (datetime.datetime(2020, 12, 1, 0, 0), datetime.datetime(2020, 12, 31, 0, 0))]\n"
     ]
    }
   ],
   "source": [
    "# cash flow\n",
    "from datetime import datetime\n",
    "from lib import csv_to_journal_entries, str_to_date, create_balance_sheet, print_balance_sheet\n",
    "from account_types import ASSET_TYPES, LIABILITY_TYPES, EQUITY_TYPES, REVENUE_TYPES, EXPENSE_TYPES\n",
    "\n",
    "# journal_entries = csv_to_journal_entries(\"/home/t4sk/Downloads/accounting-2020.csv\")\n",
    "\n",
    "from datetime import datetime, timedelta\n",
    "\n",
    "year = datetime.now().year\n",
    "months = []\n",
    "\n",
    "for i in range(1, 13):    \n",
    "    start = datetime(year, i, 1)\n",
    "    end = datetime(year + (i // 12), (i % 12) + 1, 1) - timedelta(days=1)\n",
    "    \n",
    "    months.append((start, end))\n",
    "\n",
    "print(months)"
   ]
  },
  {
   "cell_type": "code",
   "execution_count": 4,
   "metadata": {},
   "outputs": [
    {
     "data": {
      "text/plain": [
       "datetime.datetime(2020, 9, 21, 20, 57, 24, 502229)"
      ]
     },
     "execution_count": 4,
     "metadata": {},
     "output_type": "execute_result"
    }
   ],
   "source": [
    "# for every month\n",
    "#     get month start\n",
    "#     get month end\n",
    "    \n",
    "#     fitler journal entries by start, end month\n",
    "    \n",
    "#     create balance sheet for that month\n",
    "    \n",
    "# cash flow?\n",
    "\n",
    "# start_at = str_to_date(\"2020/08/01\")\n",
    "# end_at = str_to_date(\"2020/09/01\")\n",
    "# filtered = filter_journal_entries_by_date_range(journal_entries, start_at, end_at)\n",
    "\n",
    "# t_accounts = journal_entries_to_t_accounts(filtered)\n",
    "\n",
    "# bs = create_balance_sheet(\n",
    "#     t_accounts,\n",
    "#     ASSET_TYPES,\n",
    "#     LIABILITY_TYPES,\n",
    "#     EQUITY_TYPES,\n",
    "#     REVENUE_TYPES,\n",
    "#     EXPENSE_TYPES\n",
    "# )\n",
    "\n",
    "# print_balance_sheet(bs)\n",
    "\n",
    "\n",
    "\n",
    "# start_at = str_to_date(\"2020/09/01\")\n",
    "# end_at = str_to_date(\"2020/10/01\")\n",
    "# filtered = filter_journal_entries_by_date_range(journal_entries, start_at, end_at)\n",
    "\n",
    "# t_accounts = journal_entries_to_t_accounts(filtered)\n",
    "\n",
    "# bs = create_balance_sheet(\n",
    "#     t_accounts,\n",
    "#     ASSET_TYPES,\n",
    "#     LIABILITY_TYPES,\n",
    "#     EQUITY_TYPES,\n",
    "#     REVENUE_TYPES,\n",
    "#     EXPENSE_TYPES\n",
    "# )\n",
    "\n",
    "# print_balance_sheet(bs)"
   ]
  },
  {
   "cell_type": "code",
   "execution_count": 32,
   "metadata": {},
   "outputs": [
    {
     "data": {
      "text/plain": [
       "0"
      ]
     },
     "execution_count": 32,
     "metadata": {},
     "output_type": "execute_result"
    }
   ],
   "source": [
    "int(0)"
   ]
  },
  {
   "cell_type": "code",
   "execution_count": 29,
   "metadata": {},
   "outputs": [
    {
     "data": {
      "text/plain": [
       "False"
      ]
     },
     "execution_count": 29,
     "metadata": {},
     "output_type": "execute_result"
    }
   ],
   "source": [
    "t = \"creddit\"\n",
    "t is \"debit\" or t is \"credit\""
   ]
  },
  {
   "cell_type": "code",
   "execution_count": 30,
   "metadata": {},
   "outputs": [
    {
     "ename": "AssertionError",
     "evalue": "",
     "output_type": "error",
     "traceback": [
      "\u001b[0;31m---------------------------------------------------------------------------\u001b[0m",
      "\u001b[0;31mAssertionError\u001b[0m                            Traceback (most recent call last)",
      "\u001b[0;32m<ipython-input-30-ae5158e343a7>\u001b[0m in \u001b[0;36m<module>\u001b[0;34m\u001b[0m\n\u001b[0;32m----> 1\u001b[0;31m \u001b[0;32massert\u001b[0m\u001b[0;34m(\u001b[0m\u001b[0;36m1\u001b[0m \u001b[0;34m==\u001b[0m \u001b[0;36m2\u001b[0m\u001b[0;34m)\u001b[0m\u001b[0;34m\u001b[0m\u001b[0;34m\u001b[0m\u001b[0m\n\u001b[0m",
      "\u001b[0;31mAssertionError\u001b[0m: "
     ]
    }
   ],
   "source": [
    "assert(1 == 2)"
   ]
  },
  {
   "cell_type": "code",
   "execution_count": null,
   "metadata": {},
   "outputs": [],
   "source": []
  }
 ],
 "metadata": {
  "kernelspec": {
   "display_name": "Python 3",
   "language": "python",
   "name": "python3"
  },
  "language_info": {
   "codemirror_mode": {
    "name": "ipython",
    "version": 3
   },
   "file_extension": ".py",
   "mimetype": "text/x-python",
   "name": "python",
   "nbconvert_exporter": "python",
   "pygments_lexer": "ipython3",
   "version": "3.7.7"
  }
 },
 "nbformat": 4,
 "nbformat_minor": 4
}
