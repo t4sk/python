{
 "cells": [
  {
   "cell_type": "code",
   "execution_count": 1,
   "metadata": {},
   "outputs": [
    {
     "ename": "NameError",
     "evalue": "name 't_account_entries_by_account' is not defined",
     "output_type": "error",
     "traceback": [
      "\u001b[0;31m---------------------------------------------------------------------------\u001b[0m",
      "\u001b[0;31mNameError\u001b[0m                                 Traceback (most recent call last)",
      "\u001b[0;32m<ipython-input-1-7d85aa1c3c9c>\u001b[0m in \u001b[0;36m<module>\u001b[0;34m\u001b[0m\n\u001b[1;32m     20\u001b[0m     \u001b[0mfiltered\u001b[0m \u001b[0;34m=\u001b[0m \u001b[0mfilter_journal_entries_by_date_range\u001b[0m\u001b[0;34m(\u001b[0m\u001b[0mjournal_entries\u001b[0m\u001b[0;34m,\u001b[0m \u001b[0mstart\u001b[0m\u001b[0;34m,\u001b[0m \u001b[0mend\u001b[0m\u001b[0;34m)\u001b[0m\u001b[0;34m\u001b[0m\u001b[0;34m\u001b[0m\u001b[0m\n\u001b[1;32m     21\u001b[0m \u001b[0;34m\u001b[0m\u001b[0m\n\u001b[0;32m---> 22\u001b[0;31m     \u001b[0mt_accounts\u001b[0m \u001b[0;34m=\u001b[0m \u001b[0mjournal_entries_to_t_accounts\u001b[0m\u001b[0;34m(\u001b[0m\u001b[0mfiltered\u001b[0m\u001b[0;34m)\u001b[0m\u001b[0;34m\u001b[0m\u001b[0;34m\u001b[0m\u001b[0m\n\u001b[0m\u001b[1;32m     23\u001b[0m \u001b[0;34m\u001b[0m\u001b[0m\n\u001b[1;32m     24\u001b[0m     \u001b[0mbs\u001b[0m \u001b[0;34m=\u001b[0m \u001b[0mcreate_balance_sheet\u001b[0m\u001b[0;34m(\u001b[0m\u001b[0mt_accounts\u001b[0m\u001b[0;34m)\u001b[0m\u001b[0;34m\u001b[0m\u001b[0;34m\u001b[0m\u001b[0m\n",
      "\u001b[0;32m~/bkp/dev/t4sk/python/accounting/lib.py\u001b[0m in \u001b[0;36mjournal_entries_to_t_accounts\u001b[0;34m(journal_entries)\u001b[0m\n\u001b[1;32m    246\u001b[0m \u001b[0;32mdef\u001b[0m \u001b[0mjournal_entries_to_t_accounts\u001b[0m\u001b[0;34m(\u001b[0m\u001b[0mjournal_entries\u001b[0m\u001b[0;34m)\u001b[0m\u001b[0;34m:\u001b[0m\u001b[0;34m\u001b[0m\u001b[0;34m\u001b[0m\u001b[0m\n\u001b[1;32m    247\u001b[0m     \u001b[0mt_accounts\u001b[0m \u001b[0;34m=\u001b[0m \u001b[0;34m[\u001b[0m\u001b[0;34m]\u001b[0m\u001b[0;34m\u001b[0m\u001b[0;34m\u001b[0m\u001b[0m\n\u001b[0;32m--> 248\u001b[0;31m     \u001b[0maccounts\u001b[0m \u001b[0;34m=\u001b[0m \u001b[0mt_account_entries_by_account\u001b[0m\u001b[0;34m(\u001b[0m\u001b[0mjournal_entries\u001b[0m\u001b[0;34m)\u001b[0m\u001b[0;34m\u001b[0m\u001b[0;34m\u001b[0m\u001b[0m\n\u001b[0m\u001b[1;32m    249\u001b[0m \u001b[0;34m\u001b[0m\u001b[0m\n\u001b[1;32m    250\u001b[0m     \u001b[0;32mfor\u001b[0m \u001b[0maccount\u001b[0m\u001b[0;34m,\u001b[0m \u001b[0mentries\u001b[0m \u001b[0;32min\u001b[0m \u001b[0maccounts\u001b[0m\u001b[0;34m.\u001b[0m\u001b[0mitems\u001b[0m\u001b[0;34m(\u001b[0m\u001b[0;34m)\u001b[0m\u001b[0;34m:\u001b[0m\u001b[0;34m\u001b[0m\u001b[0;34m\u001b[0m\u001b[0m\n",
      "\u001b[0;31mNameError\u001b[0m: name 't_account_entries_by_account' is not defined"
     ]
    }
   ],
   "source": [
    "# cash flow\n",
    "from datetime import datetime\n",
    "from lib import (\n",
    "    csv_to_journal_entries, str_to_date, create_balance_sheet, print_balance_sheet,\n",
    "    filter_journal_entries_by_date_range,\n",
    "    journal_entries_to_t_accounts,\n",
    "    date_to_str,\n",
    "    get_months\n",
    ")\n",
    "\n",
    "from datetime import datetime, timedelta\n",
    "\n",
    "year = datetime.now().year\n",
    "months = get_months(year)\n",
    "\n",
    "journal_entries = csv_to_journal_entries(\"/home/t4sk/Downloads/accounting-2020.csv\")\n",
    "\n",
    "balance_sheets = []\n",
    "for (start, end) in months:\n",
    "    filtered = filter_journal_entries_by_date_range(journal_entries, start, end)\n",
    "\n",
    "    t_accounts = journal_entries_to_t_accounts(filtered)\n",
    "    \n",
    "    bs = create_balance_sheet(t_accounts)\n",
    "    \n",
    "    balance_sheets.append(bs)\n",
    "\n",
    "    print(f'=== {date_to_str(start)} - {date_to_str(end)} ===')\n",
    "    print_balance_sheet(bs)"
   ]
  },
  {
   "cell_type": "code",
   "execution_count": null,
   "metadata": {},
   "outputs": [],
   "source": []
  }
 ],
 "metadata": {
  "kernelspec": {
   "display_name": "Python 3",
   "language": "python",
   "name": "python3"
  },
  "language_info": {
   "codemirror_mode": {
    "name": "ipython",
    "version": 3
   },
   "file_extension": ".py",
   "mimetype": "text/x-python",
   "name": "python",
   "nbconvert_exporter": "python",
   "pygments_lexer": "ipython3",
   "version": "3.7.7"
  }
 },
 "nbformat": 4,
 "nbformat_minor": 4
}
