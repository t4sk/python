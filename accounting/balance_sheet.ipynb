{
 "cells": [
  {
   "cell_type": "code",
   "execution_count": 1,
   "metadata": {
    "scrolled": true
   },
   "outputs": [
    {
     "name": "stdout",
     "output_type": "stream",
     "text": [
      "仮払金\n",
      "雑損失\n",
      "諸会費\n",
      "事業主借\n",
      "雑所得\n",
      "売上高\n",
      "支払報酬\n",
      "会議費\n",
      "消耗品\n",
      "通信費\n",
      "売掛金\n",
      "現金\n",
      "事業主貸\n",
      "交通費\n",
      "仮想通過 （BTC）\n",
      "支払手数料\n",
      "仮受金\n",
      "普通預金\n",
      "未払金\n",
      "=== 資産 ===\n",
      "売掛金 115,935\n",
      "仮想通過 （BTC） 328,816\n",
      "普通預金 1,508,204\n",
      "事業主貸 2,561,509\n",
      "現金 0\n",
      "仮払金 711\n",
      "=== 負債 ===\n",
      "未払金 0\n",
      "仮受金 594\n",
      "=== 資本 ===\n",
      "事業主借 32,585\n",
      "=== 収益 ===\n",
      "売上高 4,672,626\n",
      "雑所得 2,866\n",
      "=== 費用 ===\n",
      "支払手数料 15,222\n",
      "消耗品 52,936\n",
      "会議費 11,700\n",
      "雑損失 28,650\n",
      "通信費 44,838\n",
      "諸会費 3,150\n",
      "支払報酬 33,000\n",
      "交通費 4,000\n",
      "============\n",
      "資産 4,515,175\n",
      "負債 594\n",
      "資本 32,585\n",
      "収益 4,675,492\n",
      "費用 193,496\n",
      "負債 + 資本 + (収益 - 費用) 4,515,175\n"
     ]
    }
   ],
   "source": [
    "%run -i \"balance_sheet.py\""
   ]
  }
 ],
 "metadata": {
  "kernelspec": {
   "display_name": "Python 3",
   "language": "python",
   "name": "python3"
  },
  "language_info": {
   "codemirror_mode": {
    "name": "ipython",
    "version": 3
   },
   "file_extension": ".py",
   "mimetype": "text/x-python",
   "name": "python",
   "nbconvert_exporter": "python",
   "pygments_lexer": "ipython3",
   "version": "3.7.7"
  }
 },
 "nbformat": 4,
 "nbformat_minor": 4
}
