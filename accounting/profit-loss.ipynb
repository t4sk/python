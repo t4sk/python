{
 "cells": [
  {
   "cell_type": "code",
   "execution_count": 1,
   "metadata": {},
   "outputs": [
    {
     "name": "stdout",
     "output_type": "stream",
     "text": [
      "売上高 4556691 0\n",
      "雑所得 2866 0\n",
      "=== 収益 4,559,557 ===\n",
      "支払手数料 0 15222\n",
      "消耗品 0 52335\n",
      "会議費 0 10332\n",
      "雑損失 0 28650\n",
      "通信費 0 44838\n",
      "諸会費 0 3150\n",
      "支払報酬 0 33000\n",
      "交通費 0 2000\n",
      "=== 費用 189,527 ===\n",
      "=== 利益 4,370,030 ===\n"
     ]
    }
   ],
   "source": [
    "# profit loss\n",
    "# 損益計算書\n",
    "from lib import csv_to_t_accounts, create_balance_sheet, check_balance_sheet, print_profit_loss\n",
    "from account_types import ASSET_TYPES, LIABILITY_TYPES, EQUITY_TYPES, REVENUE_TYPES, EXPENSE_TYPES\n",
    "\n",
    "\n",
    "t_accounts = csv_to_t_accounts(\"t-accounts.csv\")\n",
    "\n",
    "balance_sheet = create_balance_sheet(\n",
    "    t_accounts,\n",
    "    ASSET_TYPES,\n",
    "    LIABILITY_TYPES,\n",
    "    EQUITY_TYPES,\n",
    "    REVENUE_TYPES,\n",
    "    EXPENSE_TYPES\n",
    ")\n",
    "check_balance_sheet(balance_sheet)\n",
    "\n",
    "print_profit_loss(balance_sheet)\n"
   ]
  },
  {
   "cell_type": "code",
   "execution_count": null,
   "metadata": {},
   "outputs": [],
   "source": []
  }
 ],
 "metadata": {
  "kernelspec": {
   "display_name": "Python 3",
   "language": "python",
   "name": "python3"
  },
  "language_info": {
   "codemirror_mode": {
    "name": "ipython",
    "version": 3
   },
   "file_extension": ".py",
   "mimetype": "text/x-python",
   "name": "python",
   "nbconvert_exporter": "python",
   "pygments_lexer": "ipython3",
   "version": "3.7.7"
  }
 },
 "nbformat": 4,
 "nbformat_minor": 4
}
