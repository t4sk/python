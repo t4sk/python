{
 "cells": [
  {
   "cell_type": "code",
   "execution_count": 2,
   "metadata": {},
   "outputs": [
    {
     "name": "stdout",
     "output_type": "stream",
     "text": [
      "収入: 10,000,000\n",
      "国民健康保険: 903,386\n",
      "国民年金: 198,480\n",
      "住民税: 786,800\n",
      "所得税: 1,150,600\n",
      "手取り収入: 6,960,734\n"
     ]
    }
   ],
   "source": [
    "from tax import main \n",
    "\n",
    "main(income=10000000, age=33)"
   ]
  }
 ],
 "metadata": {
  "kernelspec": {
   "display_name": "Python 3",
   "language": "python",
   "name": "python3"
  },
  "language_info": {
   "codemirror_mode": {
    "name": "ipython",
    "version": 3
   },
   "file_extension": ".py",
   "mimetype": "text/x-python",
   "name": "python",
   "nbconvert_exporter": "python",
   "pygments_lexer": "ipython3",
   "version": "3.7.7"
  }
 },
 "nbformat": 4,
 "nbformat_minor": 4
}
