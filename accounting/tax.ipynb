{
 "cells": [
  {
   "cell_type": "code",
   "execution_count": 1,
   "metadata": {},
   "outputs": [
    {
     "name": "stdout",
     "output_type": "stream",
     "text": [
      "収入: 123,456\n",
      "国民健康保険: 123,456\n",
      "国民年金: 123,456\n",
      "住民税: 123,456\n",
      "所得税: 123,456\n",
      "手取り収入: 123,456\n"
     ]
    }
   ],
   "source": [
    "%run -i \"tax.py\""
   ]
  },
  {
   "cell_type": "code",
   "execution_count": 14,
   "metadata": {},
   "outputs": [
    {
     "name": "stdout",
     "output_type": "stream",
     "text": [
      "収入: 5,000,000\n",
      "国民健康保険: 431,886\n",
      "国民年金: 198,480\n",
      "住民税: 333,900\n",
      "所得税: 226,400\n",
      "手取り収入: 3,809,334\n"
     ]
    }
   ],
   "source": [
    "import \n",
    "### main ###    \n",
    "\n",
    "pre_tax_income = 5000000\n",
    "### 国民年金 ###\n",
    "pension_fee = 16540 * 12\n",
    "\n",
    "### 国民健康保険 ###\n",
    "age = 33\n",
    "\n",
    "# 医療\n",
    "medical = HealthInsuranceTax(\n",
    "    rate=0.0714,\n",
    "    per_person_fee=39900,\n",
    "    flat_fee=0\n",
    ")\n",
    "# 後期高齢者支援分\n",
    "elderly_aid = HealthInsuranceTax(\n",
    "    rate=0.0229,\n",
    "    per_person_fee=12900,\n",
    "    flat_fee=0\n",
    ")\n",
    "# 介護分\n",
    "nursing_care = HealthInsuranceTax(\n",
    "    rate=0.0205,\n",
    "    per_person_fee=15600,\n",
    "    flat_fee=0,\n",
    ")\n",
    "\n",
    "# 国民健康保険の加入者\n",
    "subscribers = [age]\n",
    "\n",
    "national_health_insurance_fee = get_national_health_insurance_fee(\n",
    "    pre_tax_income,\n",
    "    age,\n",
    "    medical,\n",
    "    elderly_aid,\n",
    "    nursing_care,\n",
    "    subscribers\n",
    ")\n",
    "\n",
    "### 所得税 ###\n",
    "# 配偶者控除\n",
    "spouse_deduction = 0\n",
    "# 扶養控除\n",
    "dependents_deduction = 0\n",
    "# 生命保険料控除\n",
    "life_insurance_deduction = 0\n",
    "\n",
    "# NOTE should pass previous year's expenses\n",
    "income_tax = get_income_tax(\n",
    "    pre_tax_income,\n",
    "    spouse_deduction,\n",
    "    dependents_deduction,\n",
    "    life_insurance_deduction,\n",
    "    pension_fee,\n",
    "    national_health_insurance_fee,\n",
    ")\n",
    "\n",
    "### 住民税 ###\n",
    "# NOTE should pass previous year's expenses\n",
    "resident_tax = get_resident_tax(\n",
    "    pre_tax_income,\n",
    "    spouse_deduction,\n",
    "    dependents_deduction,\n",
    "    life_insurance_deduction,\n",
    "    pension_fee,\n",
    "    national_health_insurance_fee,\n",
    ")\n",
    "\n",
    "after_tax_income = (\n",
    "    pre_tax_income\n",
    "    - resident_tax\n",
    "    - national_health_insurance_fee\n",
    "    - pension_fee\n",
    "    - income_tax\n",
    ")\n",
    "\n",
    "print(f'収入: {pre_tax_income:,d}')\n",
    "print(f'国民健康保険: {national_health_insurance_fee:,.0f}')\n",
    "print(f'国民年金: {pension_fee:,d}')\n",
    "print(f'住民税: {resident_tax:,.0f}')\n",
    "print(f'所得税: {income_tax:,.0f}')\n",
    "print(f'手取り収入: {after_tax_income:,.0f}')"
   ]
  },
  {
   "cell_type": "code",
   "execution_count": 3,
   "metadata": {},
   "outputs": [
    {
     "data": {
      "text/plain": [
       "inf"
      ]
     },
     "execution_count": 3,
     "metadata": {},
     "output_type": "execute_result"
    }
   ],
   "source": [
    "math.inf"
   ]
  }
 ],
 "metadata": {
  "kernelspec": {
   "display_name": "Python 3",
   "language": "python",
   "name": "python3"
  },
  "language_info": {
   "codemirror_mode": {
    "name": "ipython",
    "version": 3
   },
   "file_extension": ".py",
   "mimetype": "text/x-python",
   "name": "python",
   "nbconvert_exporter": "python",
   "pygments_lexer": "ipython3",
   "version": "3.7.7"
  }
 },
 "nbformat": 4,
 "nbformat_minor": 4
}
