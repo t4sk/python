{
 "cells": [
  {
   "cell_type": "code",
   "execution_count": 1,
   "metadata": {},
   "outputs": [
    {
     "name": "stdout",
     "output_type": "stream",
     "text": [
      "事業主貸\n",
      "普通預金\n",
      "通信費\n",
      "仮受金\n",
      "事業主借\n",
      "仮払金\n",
      "諸会費\n",
      "売上高\n",
      "雑所得\n",
      "現金\n",
      "雑損失\n",
      "支払手数料\n",
      "仮想通過 （BTC）\n",
      "会議費\n",
      "未払金\n",
      "売掛金\n",
      "支払報酬\n",
      "消耗品\n",
      "交通費\n",
      "=== 資産 ===\n",
      "売掛金 115,935\n",
      "仮想通過 （BTC） 328,816\n",
      "普通預金 1,508,204\n",
      "事業主貸 2,561,509\n",
      "現金 0\n",
      "仮払金 711\n",
      "=== 負債 ===\n",
      "未払金 0\n",
      "仮受金 594\n",
      "=== 資本 ===\n",
      "事業主借 32,585\n",
      "=== 収益 ===\n",
      "売上高 4,672,626\n",
      "雑所得 2,866\n",
      "=== 費用 ===\n",
      "支払手数料 15,222\n",
      "消耗品 52,936\n",
      "会議費 11,700\n",
      "雑損失 28,650\n",
      "通信費 44,838\n",
      "諸会費 3,150\n",
      "支払報酬 33,000\n",
      "交通費 4,000\n",
      "============\n",
      "資産 4,515,175\n",
      "負債 594\n",
      "資本 32,585\n",
      "収益 4,675,492\n",
      "費用 193,496\n",
      "負債 + 資本 + (収益 - 費用) 4,515,175\n"
     ]
    }
   ],
   "source": [
    "# 貸借対照表\n",
    "from lib import csv_to_t_accounts, get_accounts, create_balance_sheet, check_balance_sheet, print_balance_sheet\n",
    "\n",
    "t_accounts = csv_to_t_accounts(\"t-accounts.csv\")\n",
    "accounts = get_accounts(t_accounts)\n",
    "\n",
    "for account in accounts:\n",
    "    print(account)\n",
    "\n",
    "balance_sheet = create_balance_sheet(t_accounts)\n",
    "check_balance_sheet(balance_sheet)\n",
    "       \n",
    "print_balance_sheet(balance_sheet)"
   ]
  },
  {
   "cell_type": "code",
   "execution_count": null,
   "metadata": {},
   "outputs": [],
   "source": []
  }
 ],
 "metadata": {
  "kernelspec": {
   "display_name": "Python 3",
   "language": "python",
   "name": "python3"
  },
  "language_info": {
   "codemirror_mode": {
    "name": "ipython",
    "version": 3
   },
   "file_extension": ".py",
   "mimetype": "text/x-python",
   "name": "python",
   "nbconvert_exporter": "python",
   "pygments_lexer": "ipython3",
   "version": "3.7.7"
  }
 },
 "nbformat": 4,
 "nbformat_minor": 4
}
